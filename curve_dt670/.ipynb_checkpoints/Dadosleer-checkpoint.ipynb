{
 "cells": [
  {
   "cell_type": "code",
   "execution_count": 2,
   "id": "8bfbc8ff",
   "metadata": {},
   "outputs": [],
   "source": [
    "import numpy as np\n",
    "import matplotlib.pyplot as plt\n",
    "import csv"
   ]
  },
  {
   "cell_type": "code",
   "execution_count": 3,
   "id": "634d73f4",
   "metadata": {
    "scrolled": true
   },
   "outputs": [
    {
     "data": {
      "text/plain": [
       "array([[  1.4     ,   1.64429 , -12.48933 ],\n",
       "       [  1.5     ,   1.64299 , -13.62982 ],\n",
       "       [  2.6     ,   1.62166 , -23.63387 ],\n",
       "       [  3.9     ,   1.58764 , -29.5784  ],\n",
       "       [  4.      ,   1.58465 , -30.20793 ],\n",
       "       [  4.2     ,   1.57848 , -31.58885 ],\n",
       "       [  5.6     ,   1.53    , -36.21659 ],\n",
       "       [  7.5     ,   1.46086 , -34.99872 ],\n",
       "       [  8.      ,   1.44374 , -33.42148 ],\n",
       "       [  8.5     ,   1.42747 , -31.67395 ],\n",
       "       [  9.      ,   1.41207 , -29.94713 ],\n",
       "       [  9.5     ,   1.39751 , -28.31155 ],\n",
       "       [ 10.      ,   1.38373 , -26.83768 ],\n",
       "       [ 10.5     ,   1.37065 , -25.5083  ],\n",
       "       [ 11.      ,   1.3582  , -24.30614 ],\n",
       "       [ 12.5     ,   1.32416 , -21.16644 ],\n",
       "       [ 13.      ,   1.31381 , -20.25408 ],\n",
       "       [ 18.      ,   1.2283  , -15.25141 ],\n",
       "       [ 18.5     ,   1.2207  , -15.17677 ],\n",
       "       [ 23.      ,   1.140817, -20.76668 ],\n",
       "       [ 24.      ,   1.125923,  -9.417931],\n",
       "       [ 25.      ,   1.119448,  -4.596471],\n",
       "       [ 26.      ,   1.115658,  -3.185347],\n",
       "       [ 27.      ,   1.11281 ,  -2.578509],\n",
       "       [ 28.      ,   1.110421,  -2.246492],\n",
       "       [ 29.      ,   1.108261,  -2.080624],\n",
       "       [ 30.      ,   1.106244,  -1.962611],\n",
       "       [ 31.      ,   1.104324,  -1.880101],\n",
       "       [ 32.      ,   1.102476,  -1.819186],\n",
       "       [ 34.      ,   1.09893 ,  -1.73156 ],\n",
       "       [ 39.      ,   1.090627,  -1.609191],\n",
       "       [ 40.      ,   1.089024,  -1.597841],\n",
       "       [ 42.      ,   1.085842,  -1.586995],\n",
       "       [ 44.      ,   1.082669,  -1.586581],\n",
       "       [ 46.      ,   1.079492,  -1.591231],\n",
       "       [ 48.      ,   1.076303,  -1.598356],\n",
       "       [ 50.      ,   1.073099,  -1.605367],\n",
       "       [ 52.      ,   1.069881,  -1.612265],\n",
       "       [ 54.      ,   1.06665 ,  -1.619381],\n",
       "       [ 56.      ,   1.063403,  -1.627045],\n",
       "       [ 58.      ,   1.060141,  -1.635257],\n",
       "       [ 60.      ,   1.056862,  -1.643959],\n",
       "       [ 65.      ,   1.048584,  -1.667578],\n",
       "       [ 70.      ,   1.040183,  -1.693169],\n",
       "       [ 75.      ,   1.031651,  -1.719827],\n",
       "       [ 77.35    ,   1.027594,  -1.732521],\n",
       "       [ 80.      ,   1.022984,  -1.746905],\n",
       "       [ 85.      ,   1.014181,  -1.774083],\n",
       "       [ 90.      ,   1.005244,  -1.800806],\n",
       "       [ 95.      ,   0.996174,  -1.82723 ],\n",
       "       [100.      ,   0.986974,  -1.852606],\n",
       "       [105.      ,   0.97765 ,  -1.876646],\n",
       "       [110.      ,   0.968209,  -1.899452],\n",
       "       [115.      ,   0.958657,  -1.921105],\n",
       "       [120.      ,   0.949   ,  -1.941685],\n",
       "       [125.      ,   0.939242,  -1.961193],\n",
       "       [130.      ,   0.92939 ,  -1.979745],\n",
       "       [135.      ,   0.919446,  -1.99746 ],\n",
       "       [140.      ,   0.909416,  -2.014338],\n",
       "       [145.      ,   0.899304,  -2.030355],\n",
       "       [150.      ,   0.889114,  -2.045487],\n",
       "       [155.      ,   0.878851,  -2.059734],\n",
       "       [160.      ,   0.868518,  -2.073219],\n",
       "       [165.      ,   0.85812 ,  -2.086062],\n",
       "       [170.      ,   0.847659,  -2.098264],\n",
       "       [175.      ,   0.837138,  -2.109921],\n",
       "       [180.      ,   0.82656 ,  -2.12113 ],\n",
       "       [185.      ,   0.815928,  -2.13189 ],\n",
       "       [190.      ,   0.805242,  -2.142257],\n",
       "       [195.      ,   0.794505,  -2.152285],\n",
       "       [200.      ,   0.78372 ,  -2.161975],\n",
       "       [205.      ,   0.772886,  -2.17135 ],\n",
       "       [210.      ,   0.762007,  -2.180435],\n",
       "       [215.      ,   0.751082,  -2.189231],\n",
       "       [220.      ,   0.740115,  -2.19777 ],\n",
       "       [225.      ,   0.729105,  -2.206088],\n",
       "       [230.      ,   0.718054,  -2.214182],\n",
       "       [235.      ,   0.706964,  -2.222062],\n",
       "       [240.      ,   0.695834,  -2.229735],\n",
       "       [245.      ,   0.684667,  -2.237201],\n",
       "       [250.      ,   0.673462,  -2.244439],\n",
       "       [255.      ,   0.662223,  -2.251431],\n",
       "       [260.      ,   0.650949,  -2.258175],\n",
       "       [265.      ,   0.639641,  -2.264723],\n",
       "       [270.      ,   0.628302,  -2.271124],\n",
       "       [273.15    ,   0.621141,  -2.275081],\n",
       "       [275.      ,   0.61693 ,  -2.277378],\n",
       "       [280.      ,   0.605528,  -2.283414],\n",
       "       [285.      ,   0.594097,  -2.289158],\n",
       "       [290.      ,   0.582637,  -2.294612],\n",
       "       [295.      ,   0.571151,  -2.299834],\n",
       "       [300.      ,   0.559639,  -2.30488 ],\n",
       "       [305.      ,   0.548102,  -2.309753],\n",
       "       [310.      ,   0.536542,  -2.314259],\n",
       "       [315.      ,   0.524961,  -2.318207],\n",
       "       [320.      ,   0.513361,  -2.321597],\n",
       "       [325.      ,   0.501744,  -2.325317],\n",
       "       [330.      ,   0.490106,  -2.330256],\n",
       "       [335.      ,   0.478442,  -2.334916]])"
      ]
     },
     "execution_count": 3,
     "metadata": {},
     "output_type": "execute_result"
    }
   ],
   "source": [
    "a = np.loadtxt('Pratica.txt')\n",
    "a"
   ]
  },
  {
   "cell_type": "code",
   "execution_count": 4,
   "id": "c7f69757",
   "metadata": {},
   "outputs": [],
   "source": [
    "x = a[:, 0] # Temperatura\n",
    "y = a[:, 1] # Voltagem\n"
   ]
  },
  {
   "cell_type": "code",
   "execution_count": 31,
   "id": "33a748df",
   "metadata": {},
   "outputs": [
    {
     "data": {
      "image/png": "[encoded data removed]",
      "text/plain": [
       "<Figure size 432x288 with 1 Axes>"
      ]
     },
     "metadata": {
      "needs_background": "light"
     },
     "output_type": "display_data"
    }
   ],
   "source": [
    "plt.figure('Fig 1')\n",
    "plt.title('Calibração DT-670')\n",
    "plt.scatter(x, y)\n",
    "plt.xlabel('Temperatura(K)')\n",
    "plt.ylabel('Voltagem(mV)')\n",
    "plt.show()"
   ]
  },
  {
   "cell_type": "code",
   "execution_count": 25,
   "id": "8480a97e",
   "metadata": {},
   "outputs": [
    {
     "data": {
      "text/plain": [
       "array([335.  , 330.  , 325.  , 320.  , 315.  , 310.  , 305.  , 300.  ,\n",
       "       295.  , 290.  , 285.  , 280.  , 275.  , 273.15, 270.  , 265.  ,\n",
       "       260.  , 255.  , 250.  , 245.  , 240.  , 235.  , 230.  , 225.  ,\n",
       "       220.  , 215.  , 210.  , 205.  , 200.  , 195.  , 190.  , 185.  ,\n",
       "       180.  , 175.  , 170.  , 165.  , 160.  , 155.  , 150.  , 145.  ,\n",
       "       140.  , 135.  , 130.  , 125.  , 120.  , 115.  , 110.  , 105.  ,\n",
       "       100.  ,  95.  ,  90.  ,  85.  ,  80.  ,  77.35,  75.  ,  70.  ,\n",
       "        65.  ,  60.  ,  58.  ,  56.  ,  54.  ,  52.  ,  50.  ,  48.  ,\n",
       "        46.  ,  44.  ,  42.  ,  40.  ,  39.  ,  34.  ,  32.  ,  31.  ,\n",
       "        30.  ,  29.  ,  28.  ,  27.  ,  26.  ,  25.  ,  24.  ,  23.  ,\n",
       "        18.5 ,  18.  ,  13.  ,  12.5 ,  11.  ,  10.5 ,  10.  ,   9.5 ,\n",
       "         9.  ,   8.5 ,   8.  ,   7.5 ,   5.6 ,   4.2 ,   4.  ,   3.9 ,\n",
       "         2.6 ,   1.5 ,   1.4 ])"
      ]
     },
     "execution_count": 25,
     "metadata": {},
     "output_type": "execute_result"
    }
   ],
   "source": [
    "b = np.sort(a[:, 0])[::-1]\n",
    "b"
   ]
  },
  {
   "cell_type": "code",
   "execution_count": 32,
   "id": "8da87c55",
   "metadata": {},
   "outputs": [
    {
     "data": {
      "text/plain": [
       "array([0.478442, 0.490106, 0.501744, 0.513361, 0.524961, 0.536542,\n",
       "       0.548102, 0.559639, 0.571151, 0.582637, 0.594097, 0.605528,\n",
       "       0.61693 , 0.621141, 0.628302, 0.639641, 0.650949, 0.662223,\n",
       "       0.673462, 0.684667, 0.695834, 0.706964, 0.718054, 0.729105,\n",
       "       0.740115, 0.751082, 0.762007, 0.772886, 0.78372 , 0.794505,\n",
       "       0.805242, 0.815928, 0.82656 , 0.837138, 0.847659, 0.85812 ,\n",
       "       0.868518, 0.878851, 0.889114, 0.899304, 0.909416, 0.919446,\n",
       "       0.92939 , 0.939242, 0.949   , 0.958657, 0.968209, 0.97765 ,\n",
       "       0.986974, 0.996174, 1.005244, 1.014181, 1.022984, 1.027594,\n",
       "       1.031651, 1.040183, 1.048584, 1.056862, 1.060141, 1.063403,\n",
       "       1.06665 , 1.069881, 1.073099, 1.076303, 1.079492, 1.082669,\n",
       "       1.085842, 1.089024, 1.090627, 1.09893 , 1.102476, 1.104324,\n",
       "       1.106244, 1.108261, 1.110421, 1.11281 , 1.115658, 1.119448,\n",
       "       1.125923, 1.140817, 1.2207  , 1.2283  , 1.31381 , 1.32416 ,\n",
       "       1.3582  , 1.37065 , 1.38373 , 1.39751 , 1.41207 , 1.42747 ,\n",
       "       1.44374 , 1.46086 , 1.53    , 1.57848 , 1.58465 , 1.58764 ,\n",
       "       1.62166 , 1.64299 , 1.64429 ])"
      ]
     },
     "execution_count": 32,
     "metadata": {},
     "output_type": "execute_result"
    }
   ],
   "source": [
    "c = np.sort(a[:, 1])\n",
    "c"
   ]
  },
  {
   "cell_type": "code",
   "execution_count": 48,
   "id": "35edb083",
   "metadata": {
    "scrolled": true
   },
   "outputs": [
    {
     "data": {
      "text/plain": [
       "array([[  0.478442,   0.490106,   0.501744,   0.513361,   0.524961,\n",
       "          0.536542,   0.548102,   0.559639,   0.571151,   0.582637,\n",
       "          0.594097,   0.605528,   0.61693 ,   0.621141,   0.628302,\n",
       "          0.639641,   0.650949,   0.662223,   0.673462,   0.684667,\n",
       "          0.695834,   0.706964,   0.718054,   0.729105,   0.740115,\n",
       "          0.751082,   0.762007,   0.772886,   0.78372 ,   0.794505,\n",
       "          0.805242,   0.815928,   0.82656 ,   0.837138,   0.847659,\n",
       "          0.85812 ,   0.868518,   0.878851,   0.889114,   0.899304,\n",
       "          0.909416,   0.919446,   0.92939 ,   0.939242,   0.949   ,\n",
       "          0.958657,   0.968209,   0.97765 ,   0.986974,   0.996174,\n",
       "          1.005244,   1.014181,   1.022984,   1.027594,   1.031651,\n",
       "          1.040183,   1.048584,   1.056862,   1.060141,   1.063403,\n",
       "          1.06665 ,   1.069881,   1.073099,   1.076303,   1.079492,\n",
       "          1.082669,   1.085842,   1.089024,   1.090627,   1.09893 ,\n",
       "          1.102476,   1.104324,   1.106244,   1.108261,   1.110421,\n",
       "          1.11281 ,   1.115658,   1.119448,   1.125923,   1.140817,\n",
       "          1.2207  ,   1.2283  ,   1.31381 ,   1.32416 ,   1.3582  ,\n",
       "          1.37065 ,   1.38373 ,   1.39751 ,   1.41207 ,   1.42747 ,\n",
       "          1.44374 ,   1.46086 ,   1.53    ,   1.57848 ,   1.58465 ,\n",
       "          1.58764 ,   1.62166 ,   1.64299 ,   1.64429 ],\n",
       "       [335.      , 330.      , 325.      , 320.      , 315.      ,\n",
       "        310.      , 305.      , 300.      , 295.      , 290.      ,\n",
       "        285.      , 280.      , 275.      , 273.15    , 270.      ,\n",
       "        265.      , 260.      , 255.      , 250.      , 245.      ,\n",
       "        240.      , 235.      , 230.      , 225.      , 220.      ,\n",
       "        215.      , 210.      , 205.      , 200.      , 195.      ,\n",
       "        190.      , 185.      , 180.      , 175.      , 170.      ,\n",
       "        165.      , 160.      , 155.      , 150.      , 145.      ,\n",
       "        140.      , 135.      , 130.      , 125.      , 120.      ,\n",
       "        115.      , 110.      , 105.      , 100.      ,  95.      ,\n",
       "         90.      ,  85.      ,  80.      ,  77.35    ,  75.      ,\n",
       "         70.      ,  65.      ,  60.      ,  58.      ,  56.      ,\n",
       "         54.      ,  52.      ,  50.      ,  48.      ,  46.      ,\n",
       "         44.      ,  42.      ,  40.      ,  39.      ,  34.      ,\n",
       "         32.      ,  31.      ,  30.      ,  29.      ,  28.      ,\n",
       "         27.      ,  26.      ,  25.      ,  24.      ,  23.      ,\n",
       "         18.5     ,  18.      ,  13.      ,  12.5     ,  11.      ,\n",
       "         10.5     ,  10.      ,   9.5     ,   9.      ,   8.5     ,\n",
       "          8.      ,   7.5     ,   5.6     ,   4.2     ,   4.      ,\n",
       "          3.9     ,   2.6     ,   1.5     ,   1.4     ]])"
      ]
     },
     "execution_count": 48,
     "metadata": {},
     "output_type": "execute_result"
    }
   ],
   "source": [
    "d = np.vstack((c, b))\n",
    "d"
   ]
  },
  {
   "cell_type": "code",
   "execution_count": 38,
   "id": "4fb1cf86",
   "metadata": {},
   "outputs": [
    {
     "data": {
      "text/plain": [
       "<matplotlib.collections.PathCollection at 0x7f8a0bac6c10>"
      ]
     },
     "execution_count": 38,
     "metadata": {},
     "output_type": "execute_result"
    },
    {
     "data": {
      "image/png": "[encoded data removed]",
      "text/plain": [
       "<Figure size 432x288 with 1 Axes>"
      ]
     },
     "metadata": {
      "needs_background": "light"
     },
     "output_type": "display_data"
    }
   ],
   "source": [
    "plt.scatter(d[1, :], d[0, :])"
   ]
  },
  {
   "cell_type": "code",
   "execution_count": 86,
   "id": "b49f8c4a",
   "metadata": {},
   "outputs": [
    {
     "data": {
      "text/plain": [
       "array([335. , 330. , 325. , 320. , 315. , 310. , 305. , 300. , 295. ,\n",
       "       290. , 285. , 280. , 275. , 273.2, 270. , 265. , 260. , 255. ,\n",
       "       250. , 245. , 240. , 235. , 230. , 225. , 220. , 215. , 210. ,\n",
       "       205. , 200. , 195. , 190. , 185. , 180. , 175. , 170. , 165. ,\n",
       "       160. , 155. , 150. , 145. , 140. , 135. , 130. , 125. , 120. ,\n",
       "       115. , 110. , 105. , 100. ,  95. ,  90. ,  85. ,  80. ,  77.4,\n",
       "        75. ,  70. ,  65. ,  60. ,  58. ,  56. ,  54. ,  52. ,  50. ,\n",
       "        48. ,  46. ,  44. ,  42. ,  40. ,  39. ,  34. ,  32. ,  31. ,\n",
       "        30. ,  29. ,  28. ,  27. ,  26. ,  25. ,  24. ,  23. ,  18.5,\n",
       "        18. ,  13. ,  12.5,  11. ,  10.5,  10. ,   9.5,   9. ,   8.5,\n",
       "         8. ,   7.5,   5.6,   4.2,   4. ,   3.9,   2.6,   1.5,   1.4])"
      ]
     },
     "execution_count": 86,
     "metadata": {},
     "output_type": "execute_result"
    }
   ],
   "source": [
    "h = d[1, :].round(1)\n",
    "h"
   ]
  },
  {
   "cell_type": "code",
   "execution_count": 78,
   "id": "45c50bb7",
   "metadata": {},
   "outputs": [
    {
     "data": {
      "text/plain": [
       "array([0.47844, 0.49011, 0.50174, 0.51336, 0.52496, 0.53654, 0.5481 ,\n",
       "       0.55964, 0.57115, 0.58264, 0.5941 , 0.60553, 0.61693, 0.62114,\n",
       "       0.6283 , 0.63964, 0.65095, 0.66222, 0.67346, 0.68467, 0.69583,\n",
       "       0.70696, 0.71805, 0.7291 , 0.74012, 0.75108, 0.76201, 0.77289,\n",
       "       0.78372, 0.7945 , 0.80524, 0.81593, 0.82656, 0.83714, 0.84766,\n",
       "       0.85812, 0.86852, 0.87885, 0.88911, 0.8993 , 0.90942, 0.91945,\n",
       "       0.92939, 0.93924, 0.949  , 0.95866, 0.96821, 0.97765, 0.98697,\n",
       "       0.99617, 1.00524, 1.01418, 1.02298, 1.02759, 1.03165, 1.04018,\n",
       "       1.04858, 1.05686, 1.06014, 1.0634 , 1.06665, 1.06988, 1.0731 ,\n",
       "       1.0763 , 1.07949, 1.08267, 1.08584, 1.08902, 1.09063, 1.09893,\n",
       "       1.10248, 1.10432, 1.10624, 1.10826, 1.11042, 1.11281, 1.11566,\n",
       "       1.11945, 1.12592, 1.14082, 1.2207 , 1.2283 , 1.31381, 1.32416,\n",
       "       1.3582 , 1.37065, 1.38373, 1.39751, 1.41207, 1.42747, 1.44374,\n",
       "       1.46086, 1.53   , 1.57848, 1.58465, 1.58764, 1.62166, 1.64299,\n",
       "       1.64429])"
      ]
     },
     "execution_count": 78,
     "metadata": {},
     "output_type": "execute_result"
    }
   ],
   "source": [
    "i = d[0, :].round(5)\n",
    "i"
   ]
  },
  {
   "cell_type": "code",
   "execution_count": 107,
   "id": "ddbff8ea",
   "metadata": {
    "scrolled": true
   },
   "outputs": [
    {
     "data": {
      "text/plain": [
       "array([[  0.47844, 335.     ],\n",
       "       [  0.49011, 330.     ],\n",
       "       [  0.50174, 325.     ],\n",
       "       [  0.51336, 320.     ],\n",
       "       [  0.52496, 315.     ],\n",
       "       [  0.53654, 310.     ],\n",
       "       [  0.5481 , 305.     ],\n",
       "       [  0.55964, 300.     ],\n",
       "       [  0.57115, 295.     ],\n",
       "       [  0.58264, 290.     ],\n",
       "       [  0.5941 , 285.     ],\n",
       "       [  0.60553, 280.     ],\n",
       "       [  0.61693, 275.     ],\n",
       "       [  0.62114, 273.2    ],\n",
       "       [  0.6283 , 270.     ],\n",
       "       [  0.63964, 265.     ],\n",
       "       [  0.65095, 260.     ],\n",
       "       [  0.66222, 255.     ],\n",
       "       [  0.67346, 250.     ],\n",
       "       [  0.68467, 245.     ],\n",
       "       [  0.69583, 240.     ],\n",
       "       [  0.70696, 235.     ],\n",
       "       [  0.71805, 230.     ],\n",
       "       [  0.7291 , 225.     ],\n",
       "       [  0.74012, 220.     ],\n",
       "       [  0.75108, 215.     ],\n",
       "       [  0.76201, 210.     ],\n",
       "       [  0.77289, 205.     ],\n",
       "       [  0.78372, 200.     ],\n",
       "       [  0.7945 , 195.     ],\n",
       "       [  0.80524, 190.     ],\n",
       "       [  0.81593, 185.     ],\n",
       "       [  0.82656, 180.     ],\n",
       "       [  0.83714, 175.     ],\n",
       "       [  0.84766, 170.     ],\n",
       "       [  0.85812, 165.     ],\n",
       "       [  0.86852, 160.     ],\n",
       "       [  0.87885, 155.     ],\n",
       "       [  0.88911, 150.     ],\n",
       "       [  0.8993 , 145.     ],\n",
       "       [  0.90942, 140.     ],\n",
       "       [  0.91945, 135.     ],\n",
       "       [  0.92939, 130.     ],\n",
       "       [  0.93924, 125.     ],\n",
       "       [  0.949  , 120.     ],\n",
       "       [  0.95866, 115.     ],\n",
       "       [  0.96821, 110.     ],\n",
       "       [  0.97765, 105.     ],\n",
       "       [  0.98697, 100.     ],\n",
       "       [  0.99617,  95.     ],\n",
       "       [  1.00524,  90.     ],\n",
       "       [  1.01418,  85.     ],\n",
       "       [  1.02298,  80.     ],\n",
       "       [  1.02759,  77.4    ],\n",
       "       [  1.03165,  75.     ],\n",
       "       [  1.04018,  70.     ],\n",
       "       [  1.04858,  65.     ],\n",
       "       [  1.05686,  60.     ],\n",
       "       [  1.06014,  58.     ],\n",
       "       [  1.0634 ,  56.     ],\n",
       "       [  1.06665,  54.     ],\n",
       "       [  1.06988,  52.     ],\n",
       "       [  1.0731 ,  50.     ],\n",
       "       [  1.0763 ,  48.     ],\n",
       "       [  1.07949,  46.     ],\n",
       "       [  1.08267,  44.     ],\n",
       "       [  1.08584,  42.     ],\n",
       "       [  1.08902,  40.     ],\n",
       "       [  1.09063,  39.     ],\n",
       "       [  1.09893,  34.     ],\n",
       "       [  1.10248,  32.     ],\n",
       "       [  1.10432,  31.     ],\n",
       "       [  1.10624,  30.     ],\n",
       "       [  1.10826,  29.     ],\n",
       "       [  1.11042,  28.     ],\n",
       "       [  1.11281,  27.     ],\n",
       "       [  1.11566,  26.     ],\n",
       "       [  1.11945,  25.     ],\n",
       "       [  1.12592,  24.     ],\n",
       "       [  1.14082,  23.     ],\n",
       "       [  1.2207 ,  18.5    ],\n",
       "       [  1.2283 ,  18.     ],\n",
       "       [  1.31381,  13.     ],\n",
       "       [  1.32416,  12.5    ],\n",
       "       [  1.3582 ,  11.     ],\n",
       "       [  1.37065,  10.5    ],\n",
       "       [  1.38373,  10.     ],\n",
       "       [  1.39751,   9.5    ],\n",
       "       [  1.41207,   9.     ],\n",
       "       [  1.42747,   8.5    ],\n",
       "       [  1.44374,   8.     ],\n",
       "       [  1.46086,   7.5    ],\n",
       "       [  1.53   ,   5.6    ],\n",
       "       [  1.57848,   4.2    ],\n",
       "       [  1.58465,   4.     ],\n",
       "       [  1.58764,   3.9    ],\n",
       "       [  1.62166,   2.6    ],\n",
       "       [  1.64299,   1.5    ],\n",
       "       [  1.64429,   1.4    ]])"
      ]
     },
     "execution_count": 107,
     "metadata": {},
     "output_type": "execute_result"
    }
   ],
   "source": [
    "dados = np.column_stack((i,h))\n",
    "dados"
   ]
  },
  {
   "cell_type": "code",
   "execution_count": 108,
   "id": "91b54117",
   "metadata": {},
   "outputs": [],
   "source": [
    "np.savetxt('dados04', dados, fmt='%5.5g')"
   ]
  }
 ],
 "metadata": {
  "kernelspec": {
   "display_name": "Python 3 (ipykernel)",
   "language": "python",
   "name": "python3"
  },
  "language_info": {
   "codemirror_mode": {
    "name": "ipython",
    "version": 3
   },
   "file_extension": ".py",
   "mimetype": "text/x-python",
   "name": "python",
   "nbconvert_exporter": "python",
   "pygments_lexer": "ipython3",
   "version": "3.9.7"
  }
 },
 "nbformat": 4,
 "nbformat_minor": 5
}
