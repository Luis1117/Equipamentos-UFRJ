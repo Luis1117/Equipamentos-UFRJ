{
 "cells": [
  {
   "cell_type": "code",
   "execution_count": 1,
   "id": "1180171a",
   "metadata": {},
   "outputs": [],
   "source": [
    "import pyvisa"
   ]
  },
  {
   "cell_type": "code",
   "execution_count": 2,
   "id": "51b3f47d",
   "metadata": {},
   "outputs": [
    {
     "data": {
      "text/plain": [
       "()"
      ]
     },
     "execution_count": 2,
     "metadata": {},
     "output_type": "execute_result"
    }
   ],
   "source": [
    "rm = pyvisa.ResourceManager()\n",
    "rm.list_resources()"
   ]
  },
  {
   "cell_type": "code",
   "execution_count": 10,
   "id": "666f8cde",
   "metadata": {},
   "outputs": [
    {
     "ename": "NameError",
     "evalue": "name 'info' is not defined",
     "output_type": "error",
     "traceback": [
      "\u001b[0;31m---------------------------------------------------------------------------\u001b[0m",
      "\u001b[0;31mNameError\u001b[0m                                 Traceback (most recent call last)",
      "Input \u001b[0;32mIn [10]\u001b[0m, in \u001b[0;36m<cell line: 1>\u001b[0;34m()\u001b[0m\n\u001b[0;32m----> 1\u001b[0m pyvisa\u001b[38;5;241m-\u001b[39m\u001b[43minfo\u001b[49m\n",
      "\u001b[0;31mNameError\u001b[0m: name 'info' is not defined"
     ]
    }
   ],
   "source": []
  }
 ],
 "metadata": {
  "kernelspec": {
   "display_name": "Python 3 (ipykernel)",
   "language": "python",
   "name": "python3"
  },
  "language_info": {
   "codemirror_mode": {
    "name": "ipython",
    "version": 3
   },
   "file_extension": ".py",
   "mimetype": "text/x-python",
   "name": "python",
   "nbconvert_exporter": "python",
   "pygments_lexer": "ipython3",
   "version": "3.9.7"
  }
 },
 "nbformat": 4,
 "nbformat_minor": 5
}
